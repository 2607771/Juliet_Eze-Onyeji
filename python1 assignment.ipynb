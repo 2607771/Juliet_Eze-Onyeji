{
  "nbformat": 4,
  "nbformat_minor": 0,
  "metadata": {
    "colab": {
      "provenance": [],
      "authorship_tag": "ABX9TyN+ukbdLjA6n2+v0lTBSAyW",
      "include_colab_link": true
    },
    "kernelspec": {
      "name": "python3",
      "display_name": "Python 3"
    },
    "language_info": {
      "name": "python"
    }
  },
  "cells": [
    {
      "cell_type": "markdown",
      "metadata": {
        "id": "view-in-github",
        "colab_type": "text"
      },
      "source": [
        "<a href=\"https://colab.research.google.com/github/2607771/Juliet_Eze-Onyeji/blob/main/python1%20assignment.ipynb\" target=\"_parent\"><img src=\"https://colab.research.google.com/assets/colab-badge.svg\" alt=\"Open In Colab\"/></a>"
      ]
    },
    {
      "cell_type": "code",
      "execution_count": 1,
      "metadata": {
        "colab": {
          "base_uri": "https://localhost:8080/"
        },
        "id": "RClTnUcbxj2N",
        "outputId": "8ef6ee84-b2af-4c89-acc1-d0e6f19751a9"
      },
      "outputs": [
        {
          "output_type": "stream",
          "name": "stdout",
          "text": [
            "Alder\n",
            "Crab Apple\n",
            "Common Ash\n",
            "Silver Birch\n",
            "Downy Birch\n",
            "European Beech\n",
            "Box\n",
            "Wild Cherry\n",
            "Bird Cherry\n",
            "Blackthorn\n",
            "Wych Elm\n",
            "Smooth-leaved Elm\n",
            "Common Hawthorn\n",
            "Midland Hawthorn\n",
            "Common Hazel\n",
            "European Hornbeam\n",
            "European Holly\n",
            "Common Juniper\n",
            "Small-leaved Lime\n",
            "Large-leaved Lime\n",
            "Field Maple\n",
            "Pedunculate Oak\n",
            "Sessile Oak\n",
            "Scots Pine\n",
            "Aspen\n",
            "Black Poplar\n",
            "European Rowan\n",
            "Common Whitebeam\n",
            "Service Tree\n",
            "Wild Service Tree\n",
            "Strawberry Tree\n",
            "Bay Willow\n",
            "Crack Willow\n",
            "White Willow\n",
            "Almond-leaved Willow\n",
            "European Yew\n",
            "Alder Buckthorn\n",
            "Purging Buckthorn\n",
            "Elder\n",
            "Common Dogwood\n",
            "Rock Whitebeam\n",
            "Sea-buckthorn\n",
            "Spindle\n",
            "Sallow\n",
            "Grey Willow\n",
            "Purple Willow\n",
            "Common Osier\n",
            "Eared Willow\n",
            "Guelder Rose\n",
            "Wayfaring tree\n",
            "Common Privet\n",
            "Plot's Elm\n"
          ]
        }
      ],
      "source": [
        "#Open the file in read mode\n",
        "with open('tree.txt', 'r') as file:\n",
        "  # Read all lines in the file\n",
        "  data = file.read()\n",
        "\n",
        "  #Print the content of the file\n",
        "  print(data)"
      ]
    }
  ]
}