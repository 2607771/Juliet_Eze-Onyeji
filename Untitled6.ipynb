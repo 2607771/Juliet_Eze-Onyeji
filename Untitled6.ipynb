{
  "nbformat": 4,
  "nbformat_minor": 0,
  "metadata": {
    "colab": {
      "provenance": [],
      "authorship_tag": "ABX9TyNz3PokQWStSaJVyoYdm9na",
      "include_colab_link": true
    },
    "kernelspec": {
      "name": "python3",
      "display_name": "Python 3"
    },
    "language_info": {
      "name": "python"
    }
  },
  "cells": [
    {
      "cell_type": "markdown",
      "metadata": {
        "id": "view-in-github",
        "colab_type": "text"
      },
      "source": [
        "<a href=\"https://colab.research.google.com/github/2607771/Juliet_Eze-Onyeji/blob/main/Untitled6.ipynb\" target=\"_parent\"><img src=\"https://colab.research.google.com/assets/colab-badge.svg\" alt=\"Open In Colab\"/></a>"
      ]
    },
    {
      "cell_type": "code",
      "execution_count": 8,
      "metadata": {
        "id": "IawtMXYMcvQQ"
      },
      "outputs": [],
      "source": [
        "import os"
      ]
    },
    {
      "cell_type": "code",
      "source": [
        "# Open the file in read mode\n",
        "with open('tree.txt', 'r') as file:\n",
        "    # Read all lines in the file\n",
        "    data = file.read()\n",
        "\n",
        "# Print the content of the file\n",
        "print(data)"
      ],
      "metadata": {
        "colab": {
          "base_uri": "https://localhost:8080/"
        },
        "id": "7git2gkpdp5Z",
        "outputId": "a9760d84-26a2-4fbb-cd24-9badbbda7175"
      },
      "execution_count": 9,
      "outputs": [
        {
          "output_type": "stream",
          "name": "stdout",
          "text": [
            "Alder\n",
            "Crab Apple\n",
            "Common Ash\n",
            "Silver Birch\n",
            "Downy Birch\n",
            "European Beech\n",
            "Box\n",
            "Wild Cherry\n",
            "Bird Cherry\n",
            "Blackthorn\n",
            "Wych Elm\n",
            "Smooth-leaved Elm\n",
            "Common Hawthorn\n",
            "Midland Hawthorn\n",
            "Common Hazel\n",
            "European Hornbeam\n",
            "European Holly\n",
            "Common Juniper\n",
            "Small-leaved Lime\n",
            "Large-leaved Lime\n",
            "Field Maple\n",
            "Pedunculate Oak\n",
            "Sessile Oak\n",
            "Scots Pine\n",
            "Aspen\n",
            "Black Poplar\n",
            "European Rowan\n",
            "Common Whitebeam\n",
            "Service Tree\n",
            "Wild Service Tree\n",
            "Strawberry Tree\n",
            "Bay Willow\n",
            "Crack Willow\n",
            "White Willow\n",
            "Almond-leaved Willow\n",
            "European Yew\n",
            "Alder Buckthorn\n",
            "Purging Buckthorn\n",
            "Elder\n",
            "Common Dogwood\n",
            "Rock Whitebeam\n",
            "Sea-buckthorn\n",
            "Spindle\n",
            "Sallow\n",
            "Grey Willow\n",
            "Purple Willow\n",
            "Common Osier\n",
            "Eared Willow\n",
            "Guelder Rose\n",
            "Wayfaring tree\n",
            "Common Privet\n",
            "Plot's Elm\n"
          ]
        }
      ]
    },
    {
      "cell_type": "code",
      "source": [
        "# Open the file in read mode\n",
        "with open('value.txt', 'r') as file:\n",
        "    # Read all lines in the file\n",
        "    data = file.read()\n",
        "\n",
        "# Print the content of the file\n",
        "print(data)"
      ],
      "metadata": {
        "colab": {
          "base_uri": "https://localhost:8080/"
        },
        "id": "vrM3thged5i3",
        "outputId": "774104c7-1508-4ac3-865d-44c6934e2a7a"
      },
      "execution_count": 10,
      "outputs": [
        {
          "output_type": "stream",
          "name": "stdout",
          "text": [
            "A 25\n",
            "B  8\n",
            "C  8\n",
            "D  9\n",
            "E 35\n",
            "F  7\n",
            "G  9\n",
            "H  7\n",
            "I 25\n",
            "J  3\n",
            "K  6\n",
            "L 15\n",
            "M  8\n",
            "N 15\n",
            "O 20\n",
            "P  8\n",
            "Q  1\n",
            "R 15\n",
            "S 15\n",
            "T 15\n",
            "U 20\n",
            "V  7\n",
            "W  7\n",
            "X  3\n",
            "Y  7\n",
            "Z  1\n"
          ]
        }
      ]
    },
    {
      "cell_type": "code",
      "source": [
        "# Function to generate concatenated abbreviations from names in capital letters\n",
        "def generate_abbreviation(first_name, last_name):\n",
        "    # Concatenate first letter of first name and first + last letters of last name in uppercase\n",
        "    abbreviation = first_name[0].upper() + last_name[0].upper() + last_name[-1].upper()\n",
        "    return abbreviation\n",
        "\n",
        "# Read the content of tree.txt\n",
        "with open('tree.txt', 'r') as file:\n",
        "    lines = file.readlines()\n",
        "\n",
        "# Process each line and print concatenated abbreviations\n",
        "for line in lines:\n",
        "    # Assuming each line contains first and last name separated by a space\n",
        "    names = line.strip().split()\n",
        "    if len(names) >= 2:\n",
        "        first_name = names[0]\n",
        "        last_name = names[1]\n",
        "\n",
        "        # Generate abbreviation\n",
        "        abbreviation = generate_abbreviation(first_name, last_name)\n",
        "\n",
        "        # Print the concatenated abbreviation\n",
        "        print(f\"Full Name: {first_name} {last_name}\")\n",
        "        print(f\"Concatenated Abbreviation: {abbreviation}\")\n",
        "        print(\"----------\")\n",
        "\n",
        "# Sample output if 'tree.txt' contains names\n"
      ],
      "metadata": {
        "colab": {
          "base_uri": "https://localhost:8080/"
        },
        "id": "DpkifBHkeIxR",
        "outputId": "c404e97b-d674-421c-d5e4-c9137a7004c5"
      },
      "execution_count": 11,
      "outputs": [
        {
          "output_type": "stream",
          "name": "stdout",
          "text": [
            "Full Name: Crab Apple\n",
            "Concatenated Abbreviation: CAE\n",
            "----------\n",
            "Full Name: Common Ash\n",
            "Concatenated Abbreviation: CAH\n",
            "----------\n",
            "Full Name: Silver Birch\n",
            "Concatenated Abbreviation: SBH\n",
            "----------\n",
            "Full Name: Downy Birch\n",
            "Concatenated Abbreviation: DBH\n",
            "----------\n",
            "Full Name: European Beech\n",
            "Concatenated Abbreviation: EBH\n",
            "----------\n",
            "Full Name: Wild Cherry\n",
            "Concatenated Abbreviation: WCY\n",
            "----------\n",
            "Full Name: Bird Cherry\n",
            "Concatenated Abbreviation: BCY\n",
            "----------\n",
            "Full Name: Wych Elm\n",
            "Concatenated Abbreviation: WEM\n",
            "----------\n",
            "Full Name: Smooth-leaved Elm\n",
            "Concatenated Abbreviation: SEM\n",
            "----------\n",
            "Full Name: Common Hawthorn\n",
            "Concatenated Abbreviation: CHN\n",
            "----------\n",
            "Full Name: Midland Hawthorn\n",
            "Concatenated Abbreviation: MHN\n",
            "----------\n",
            "Full Name: Common Hazel\n",
            "Concatenated Abbreviation: CHL\n",
            "----------\n",
            "Full Name: European Hornbeam\n",
            "Concatenated Abbreviation: EHM\n",
            "----------\n",
            "Full Name: European Holly\n",
            "Concatenated Abbreviation: EHY\n",
            "----------\n",
            "Full Name: Common Juniper\n",
            "Concatenated Abbreviation: CJR\n",
            "----------\n",
            "Full Name: Small-leaved Lime\n",
            "Concatenated Abbreviation: SLE\n",
            "----------\n",
            "Full Name: Large-leaved Lime\n",
            "Concatenated Abbreviation: LLE\n",
            "----------\n",
            "Full Name: Field Maple\n",
            "Concatenated Abbreviation: FME\n",
            "----------\n",
            "Full Name: Pedunculate Oak\n",
            "Concatenated Abbreviation: POK\n",
            "----------\n",
            "Full Name: Sessile Oak\n",
            "Concatenated Abbreviation: SOK\n",
            "----------\n",
            "Full Name: Scots Pine\n",
            "Concatenated Abbreviation: SPE\n",
            "----------\n",
            "Full Name: Black Poplar\n",
            "Concatenated Abbreviation: BPR\n",
            "----------\n",
            "Full Name: European Rowan\n",
            "Concatenated Abbreviation: ERN\n",
            "----------\n",
            "Full Name: Common Whitebeam\n",
            "Concatenated Abbreviation: CWM\n",
            "----------\n",
            "Full Name: Service Tree\n",
            "Concatenated Abbreviation: STE\n",
            "----------\n",
            "Full Name: Wild Service\n",
            "Concatenated Abbreviation: WSE\n",
            "----------\n",
            "Full Name: Strawberry Tree\n",
            "Concatenated Abbreviation: STE\n",
            "----------\n",
            "Full Name: Bay Willow\n",
            "Concatenated Abbreviation: BWW\n",
            "----------\n",
            "Full Name: Crack Willow\n",
            "Concatenated Abbreviation: CWW\n",
            "----------\n",
            "Full Name: White Willow\n",
            "Concatenated Abbreviation: WWW\n",
            "----------\n",
            "Full Name: Almond-leaved Willow\n",
            "Concatenated Abbreviation: AWW\n",
            "----------\n",
            "Full Name: European Yew\n",
            "Concatenated Abbreviation: EYW\n",
            "----------\n",
            "Full Name: Alder Buckthorn\n",
            "Concatenated Abbreviation: ABN\n",
            "----------\n",
            "Full Name: Purging Buckthorn\n",
            "Concatenated Abbreviation: PBN\n",
            "----------\n",
            "Full Name: Common Dogwood\n",
            "Concatenated Abbreviation: CDD\n",
            "----------\n",
            "Full Name: Rock Whitebeam\n",
            "Concatenated Abbreviation: RWM\n",
            "----------\n",
            "Full Name: Grey Willow\n",
            "Concatenated Abbreviation: GWW\n",
            "----------\n",
            "Full Name: Purple Willow\n",
            "Concatenated Abbreviation: PWW\n",
            "----------\n",
            "Full Name: Common Osier\n",
            "Concatenated Abbreviation: COR\n",
            "----------\n",
            "Full Name: Eared Willow\n",
            "Concatenated Abbreviation: EWW\n",
            "----------\n",
            "Full Name: Guelder Rose\n",
            "Concatenated Abbreviation: GRE\n",
            "----------\n",
            "Full Name: Wayfaring tree\n",
            "Concatenated Abbreviation: WTE\n",
            "----------\n",
            "Full Name: Common Privet\n",
            "Concatenated Abbreviation: CPT\n",
            "----------\n",
            "Full Name: Plot's Elm\n",
            "Concatenated Abbreviation: PEM\n",
            "----------\n"
          ]
        }
      ]
    },
    {
      "cell_type": "code",
      "source": [
        "# Sum up the values assigned to each letter in the abbreviations\n",
        "abbreviation_sums = {}\n",
        "for abbreviation in abbreviation:\n",
        "    total_value = 0\n",
        "    for letter in abbreviation:\n",
        "       if letter in 'values':\n",
        "            total_value += 'values'[letter]\n",
        "    abbreviation_sums[abbreviation] = total_value\n",
        "\n",
        "# Print the total sums of the value for each abbreviations\n",
        "for abbreviation, total in abbreviation_sums.items():\n",
        "    print(f\"Total sum for abbreviation {abbreviation}: {total}\")\n"
      ],
      "metadata": {
        "colab": {
          "base_uri": "https://localhost:8080/"
        },
        "id": "7ZAkQMXmf-_o",
        "outputId": "143e0695-d993-4b88-a385-8e140f4f369e"
      },
      "execution_count": 17,
      "outputs": [
        {
          "output_type": "stream",
          "name": "stdout",
          "text": [
            "Total sum for abbreviation P: 0\n"
          ]
        }
      ]
    }
  ]
}